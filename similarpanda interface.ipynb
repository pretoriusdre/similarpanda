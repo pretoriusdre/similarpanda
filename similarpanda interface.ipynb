{
 "cells": [
  {
   "cell_type": "code",
   "execution_count": 1,
   "metadata": {},
   "outputs": [],
   "source": [
    "import pandas as pd\n",
    "import os\n",
    "import similarpanda\n",
    "import numpy as np\n",
    "from pathlib import Path"
   ]
  },
  {
   "cell_type": "markdown",
   "metadata": {},
   "source": [
    "See https://github.com/pretoriusdre/similarpanda"
   ]
  },
  {
   "cell_type": "markdown",
   "metadata": {
    "tags": []
   },
   "source": [
    "## Load data"
   ]
  },
  {
   "cell_type": "markdown",
   "metadata": {},
   "source": [
    "### Option 1\n",
    "Load named tables from an excel file.\n",
    "\n",
    "Execute this cell if you want to get data from one or more Excel files."
   ]
  },
  {
   "cell_type": "code",
   "execution_count": 2,
   "metadata": {},
   "outputs": [
    {
     "name": "stdout",
     "output_type": "stream",
     "text": [
      "Old\n",
      "  Part number    Description  Qty  Price Currency  Total  Lead time Comment\n",
      "0   A66891487  Description52    8    241      USD   1928          6    None\n",
      "1   A76094200  Description64    2    338      USD    676          6    None\n",
      "2   A33321362  Description94    2    281      USD    562          6    None\n",
      "3   A80435960  Description68    4    162      USD    648          6    None\n",
      "...\n",
      "New\n",
      "  Part number    Description  Qty  Price Currency Added col  Total  Lead time  \\\n",
      "0   A66891487  Description52    8    241      USD      None   1928        6.0   \n",
      "1   A76094200  Description65    2    338      USD      None    676        6.0   \n",
      "2   A33321362  Description94    2    281      USD      None    562        6.0   \n",
      "3   A80435960  Description68    4    162      USD      None    648        6.0   \n",
      "\n",
      "  Comment  \n",
      "0    None  \n",
      "1    None  \n",
      "2    None  \n",
      "3    None  \n"
     ]
    }
   ],
   "source": [
    "input_folder_path = Path('input')\n",
    "\n",
    "input_file_path_old = input_folder_path / 'example-data-old.xlsx'\n",
    "input_file_path_new = input_folder_path / 'example-data-new.xlsx'\n",
    "\n",
    "all_dfs_old = similarpanda.get_all_tables_in_excel(input_file_path_old)\n",
    "all_dfs_new = similarpanda.get_all_tables_in_excel(input_file_path_new)\n",
    "\n",
    "# The following table names need to be defined in the Excel file\n",
    "df_old = all_dfs_old['Table_data']\n",
    "df_new = all_dfs_new['Table_data']\n",
    "\n",
    "print('Old')\n",
    "print(df_old.head(4))\n",
    "print('...')\n",
    "print('New')\n",
    "print(df_new.head(4))"
   ]
  },
  {
   "cell_type": "markdown",
   "metadata": {},
   "source": [
    "## Option 2\n",
    "Load data from the clipboard (copy each from Excel).\n",
    "\n",
    "Copy the relevant (old) data from Excel to the clipboard, then execute the first cell.\n",
    "\n",
    "Then do the same with the new data.\n",
    "\n",
    "Don't execute these cells if you're loading data from files."
   ]
  },
  {
   "cell_type": "markdown",
   "metadata": {},
   "source": [
    "#### Old data"
   ]
  },
  {
   "cell_type": "code",
   "execution_count": null,
   "metadata": {},
   "outputs": [],
   "source": [
    "#Copy the first set of data and execute this cell\n",
    "df_old = pd.read_clipboard(sep=';').replace({np.nan: None})\n",
    "df_old.head(4)"
   ]
  },
  {
   "cell_type": "markdown",
   "metadata": {},
   "source": [
    "#### New data"
   ]
  },
  {
   "cell_type": "code",
   "execution_count": null,
   "metadata": {},
   "outputs": [],
   "source": [
    "# Now copy the other data and execute this\n",
    "df_new = pd.read_clipboard(sep=';').replace({np.nan: None})\n",
    "df_new.head(4)"
   ]
  },
  {
   "cell_type": "markdown",
   "metadata": {},
   "source": [
    "## Process data changes and output Excel"
   ]
  },
  {
   "cell_type": "code",
   "execution_count": 3,
   "metadata": {},
   "outputs": [
    {
     "name": "stdout",
     "output_type": "stream",
     "text": [
      "done\n"
     ]
    }
   ],
   "source": [
    "output_folder_path = Path('output')\n",
    "output_filename = 'example_output_differences.xlsx'\n",
    "output_file_path = output_folder_path / output_filename\n",
    "key_column = 'Part number'\n",
    "df_old_title = '5004-PL-2021 Rev 1 (example data)'\n",
    "df_new_title = '5004-PL-2021 Rev 2 (example data)'\n",
    "\n",
    "df_new.replace({np.nan: None}, inplace=True)\n",
    "df_old.replace({np.nan: None}, inplace=True)\n",
    "\n",
    "sp = similarpanda.SimilarPanda(new = df_new,\n",
    "                             old = df_old,\n",
    "                             key_column = key_column,\n",
    "                             df_new_title = df_new_title,\n",
    "                             df_old_title = df_old_title)\n",
    "sp.output_excel(output_file_path)\n",
    "os.startfile(output_file_path)\n",
    "print(\"done\")"
   ]
  },
  {
   "cell_type": "code",
   "execution_count": null,
   "metadata": {},
   "outputs": [],
   "source": []
  }
 ],
 "metadata": {
  "kernelspec": {
   "display_name": ".venv",
   "language": "python",
   "name": "python3"
  },
  "language_info": {
   "codemirror_mode": {
    "name": "ipython",
    "version": 3
   },
   "file_extension": ".py",
   "mimetype": "text/x-python",
   "name": "python",
   "nbconvert_exporter": "python",
   "pygments_lexer": "ipython3",
   "version": "3.12.6"
  }
 },
 "nbformat": 4,
 "nbformat_minor": 4
}
